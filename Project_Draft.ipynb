{
 "cells": [
  {
   "cell_type": "code",
   "execution_count": 1,
   "metadata": {
    "collapsed": true
   },
   "outputs": [],
   "source": [
    "# Dependencies\n",
    "import time\n",
    "import tweepy\n",
    "import pandas as pd\n",
    "import matplotlib.pyplot as plt\n",
    "from config import (consumer_key, consumer_secret, access_token, access_token_secret)\n",
    "\n",
    "# Initialize sentiment analyzer\n",
    "from vaderSentiment.vaderSentiment import SentimentIntensityAnalyzer\n",
    "analyzer = SentimentIntensityAnalyzer()\n",
    "\n",
    "#Setup Tweepy API\n",
    "auth = tweepy.OAuthHandler(consumer_key, consumer_secret)\n",
    "auth.set_access_token(access_token, access_token_secret)\n",
    "api = tweepy.API(auth, parser=tweepy.parsers.JSONParser())"
   ]
  },
  {
   "cell_type": "code",
   "execution_count": 13,
   "metadata": {
    "collapsed": true
   },
   "outputs": [],
   "source": [
    "# Specify the companies\n",
    "target_terms = [\"@Apple\", \"@Samsung\", \"@amazon\", \"@Walmart\", \"@netflix\", \"@Nike\", \"@Macys\"]\n",
    "\n",
    "# Make a dictionary to hold each type of sentiment\n",
    "company_sentiment = {\n",
    "    \"compound_list\": [], \n",
    "    \"positive_list\": [], \n",
    "    \"negative_list\": [], \n",
    "    \"neutral_list\": []\n",
    "}\n",
    "\n",
    "# Loop through (can change the range if we need to)\n",
    "for x in range(1): \n",
    "    \n",
    "    # Loop through all companies\n",
    "    for target in target_terms:\n",
    "\n",
    "        public_tweets = api.search(target, count=100, result_type=\"recent\")\n",
    "\n",
    "        # Loop through all tweets\n",
    "        for tweet in public_tweets[\"statuses\"]:\n",
    "\n",
    "            # Run Vader Analysis on each tweet\n",
    "            results = analyzer.polarity_scores(tweet[\"text\"])\n",
    "            compound = results[\"compound\"]\n",
    "            pos = results[\"pos\"]\n",
    "            neu = results[\"neu\"]\n",
    "            neg = results[\"neg\"]\n",
    "\n",
    "            # Save all info to the corresponding lists\n",
    "            company_sentiment[\"compound_list\"].append(compound)\n",
    "            company_sentiment[\"positive_list\"].append(pos)\n",
    "            company_sentiment[\"neutral_list\"].append(neu)\n",
    "            company_sentiment[\"negative_list\"].append(neg)\n",
    "\n",
    "# Create a DataFrame to hold all the info\n",
    "sentiment_summary = pd.DataFrame(company_sentiment)"
   ]
  },
  {
   "cell_type": "code",
   "execution_count": null,
   "metadata": {
    "collapsed": true
   },
   "outputs": [],
   "source": []
  },
  {
   "cell_type": "code",
   "execution_count": null,
   "metadata": {
    "collapsed": true
   },
   "outputs": [],
   "source": [
    "# Set timer to run every 15 minutes, 26 times max\n",
    "# Stock market is open from 8:30AM to 3PM in central time\n",
    "t_end = time.time() + 15 * 26\n",
    "while True:\n",
    "    tweet_data()\n",
    "    time.sleep(15)"
   ]
  },
  {
   "cell_type": "code",
   "execution_count": null,
   "metadata": {
    "collapsed": true
   },
   "outputs": [],
   "source": []
  }
 ],
 "metadata": {
  "kernelspec": {
   "display_name": "Python 3",
   "language": "python",
   "name": "python3"
  },
  "language_info": {
   "codemirror_mode": {
    "name": "ipython",
    "version": 3
   },
   "file_extension": ".py",
   "mimetype": "text/x-python",
   "name": "python",
   "nbconvert_exporter": "python",
   "pygments_lexer": "ipython3",
   "version": "3.6.2"
  }
 },
 "nbformat": 4,
 "nbformat_minor": 2
}
