{
 "cells": [
  {
   "cell_type": "code",
   "execution_count": 1,
   "metadata": {},
   "outputs": [
    {
     "ename": "SyntaxError",
     "evalue": "invalid syntax (<ipython-input-1-05b0c470a3c9>, line 39)",
     "output_type": "error",
     "traceback": [
      "\u001b[0;36m  File \u001b[0;32m\"<ipython-input-1-05b0c470a3c9>\"\u001b[0;36m, line \u001b[0;32m39\u001b[0m\n\u001b[0;31m    x_ticks.append(y.split(':')[1]\":\"+y.split(':')[2])\u001b[0m\n\u001b[0m                                    ^\u001b[0m\n\u001b[0;31mSyntaxError\u001b[0m\u001b[0;31m:\u001b[0m invalid syntax\n"
     ]
    }
   ],
   "source": [
    "import matplotlib.pyplot as plt\n",
    "import matplotlib.animation as animation\n",
    "from matplotlib import style\n",
    "style.use('fivethirtyeight')\n",
    "import pandas as pd\n",
    "import time as t\n",
    "from IPython import display\n",
    "from datetime import datetime, date, time\n",
    "# Create a reference the CSV file desired\n",
    "csv_path = \"stockHistory.txt\"\n",
    "#Stock ticker for collecting data\n",
    "stocks = ['AAPL', 'V', 'AMZN', 'WMT', 'NFLX', 'NKE', 'M']\n",
    "def plotGraph():\n",
    "    \n",
    "    while(True):\n",
    "        \n",
    "    # Read the CSV into a Pandas DataFrame\n",
    "        stock_sentiment_df = pd.read_csv(csv_path)\n",
    "    # Print the first five rows of data to the screen\n",
    "        stock_sentiment_df.head()\n",
    "    #Using GroupBy in order to separate the data into fields according to \"stock ticker\" values\n",
    "        stock_sentiment_df.columns.values\n",
    "        stock_sentiment_df.head()\n",
    "        stocks_data = []\n",
    "        for stock in stocks:\n",
    "            stocks_data.append(stock_sentiment_df.loc[stock_sentiment_df['Stock Ticker       '].str.strip() == stock])\n",
    "\n",
    "        stock_sentiment_df.columns.values\n",
    "    # evenly sampled time at 200ms intervals\n",
    "        x = stocks_data[0][' Counter  ']\n",
    "\n",
    "\n",
    "#([' Counter  ', 'Corporation          ', 'Time       ',\n",
    "#       'Stock Ticker       ', 'Stock Price       ', 'Compound         ',\n",
    "#       'Positive         ', 'Neutral        ', 'Negative        ']\n",
    "        x_ticks_temp = stocks_data[0]['Time       ']\n",
    "        x_ticks = []\n",
    "        for y in x_ticks_temp:\n",
    "            x_ticks.append(y.split(':')[1]+\":\"+y.split(':')[2])\n",
    "        display.clear_output(wait=True)\n",
    "        fig = plt.figure(num=None, figsize=(30, 15), dpi=80, facecolor='w', edgecolor='k')\n",
    "        ax1=fig.add_subplot(1,1,1)\n",
    "        ax1.set_xlabel(\"Time\")\n",
    "        ax1.set_ylabel(\"Stock Price\")\n",
    "        ax1.set_title('Stock Price Vs Time')\n",
    "        # Set the tick labels font\n",
    "        for label in (ax1.get_xticklabels() + ax1.get_yticklabels()):\n",
    "            label.set_fontname('Arial')\n",
    "            label.set_fontsize(30)\n",
    "        ax1.set_xticklabels(x_ticks,rotation='vertical',fontsize=20)\n",
    "        ax1.plot(x, stocks_data[0]['Stock Price       '], 'r--', x, stocks_data[1]['Stock Price       '], 'b-', x, stocks_data[2]['Stock Price       '], 'g-', \n",
    "            x, stocks_data[3]['Stock Price       '], 'o--',x, stocks_data[4]['Stock Price       '], 'x--',x, stocks_data[5]['Stock Price       '], '*--',\n",
    "           x, stocks_data[6]['Stock Price       '], '--')\n",
    "        plt.show()\n",
    "        fig.savefig(str(datetime.now().time())+'.png', dpi=300)\n",
    "        t.sleep(20)\n",
    "    \n",
    "try:\n",
    "    plotGraph()\n",
    "except KeyboardInterrupt:\n",
    "    print('\\n\\nKeyboard exception received. Exiting.')\n",
    "    exit()"
   ]
  },
  {
   "cell_type": "code",
   "execution_count": null,
   "metadata": {
    "collapsed": true
   },
   "outputs": [],
   "source": []
  },
  {
   "cell_type": "code",
   "execution_count": null,
   "metadata": {
    "collapsed": true
   },
   "outputs": [],
   "source": []
  }
 ],
 "metadata": {
  "kernelspec": {
   "display_name": "Python 3",
   "language": "python",
   "name": "python3"
  },
  "language_info": {
   "codemirror_mode": {
    "name": "ipython",
    "version": 3
   },
   "file_extension": ".py",
   "mimetype": "text/x-python",
   "name": "python",
   "nbconvert_exporter": "python",
   "pygments_lexer": "ipython3",
   "version": "3.6.1"
  }
 },
 "nbformat": 4,
 "nbformat_minor": 2
}
