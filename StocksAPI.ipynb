{
 "cells": [
  {
   "cell_type": "code",
   "execution_count": null,
   "metadata": {},
   "outputs": [],
   "source": [
    "# Dependencies\n",
    "import requests as req\n",
    "import json\n",
    "\n",
    "from datetime import datetime, date, time\n",
    "\n",
    "# Store the file path associated with the file\n",
    "import os\n",
    "stockHistory = 'stockHistory.txt'\n",
    "# Base URL for GET requests to retrieve stock data\n",
    "url = \"https://api.iextrading.com/1.0/stock/\"\n",
    "print(stockHistory)\n",
    "file=open(stockHistory,'w')\n",
    "\n",
    "stocks = ['AAPL','WMT', 'NFLX', 'NKE', 'M', 'V']\n",
    "print(str(datetime.now().time()))"
   ]
  },
  {
   "cell_type": "code",
   "execution_count": null,
   "metadata": {},
   "outputs": [],
   "source": [
    "stock_market_open_time = time(hour=8, minute=30, second=0, microsecond=0)\n",
    "stock_market_close_time = time(hour=23, minute=0, second=0, microsecond=0)\n",
    "\n",
    "file.write(\" Counter  \"+\"Corporation          \"+\"Start Time       \"+\"End Time       \"+\"Stock Ticker       \"+\"Stock Price       \\n\")\n",
    "def stockPriceCollection():\n",
    "    counter = 0;\n",
    "    while((datetime.now().time() > stock_market_open_time) & (datetime.now().time() < stock_market_close_time) & counter < 50):\n",
    "        counter = counter+1\n",
    "        time_var = datetime.now().time()\n",
    "        for stock in stocks:\n",
    "            print(url+stock+\"/quote\")\n",
    "            response = req.get(url+stock+\"/quote\")\n",
    "            print(\"Counter::\"+str(counter))\n",
    "            print(response.json())\n",
    "            file.write(f\"{counter} {response.json()['companyName']}          {time_var}        {response.json()['symbol']}       {response.json()['latestPrice']}\\n\")\n",
    "try:\n",
    "    stockPriceCollection()\n",
    "except KeyboardInterrupt:\n",
    "    print('\\n\\nKeyboard exception received. Exiting.')\n",
    "    file.close()\n",
    "    exit()\n",
    "file.close();\n",
    "\n"
   ]
  },
  {
   "cell_type": "code",
   "execution_count": null,
   "metadata": {
    "collapsed": true
   },
   "outputs": [],
   "source": [
    "\n"
   ]
  }
 ],
 "metadata": {
  "kernelspec": {
   "display_name": "Python 3",
   "language": "python",
   "name": "python3"
  },
  "language_info": {
   "codemirror_mode": {
    "name": "ipython",
    "version": 3
   },
   "file_extension": ".py",
   "mimetype": "text/x-python",
   "name": "python",
   "nbconvert_exporter": "python",
   "pygments_lexer": "ipython3",
   "version": "3.6.1"
  }
 },
 "nbformat": 4,
 "nbformat_minor": 2
}
