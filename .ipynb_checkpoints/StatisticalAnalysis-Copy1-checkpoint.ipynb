{
 "cells": [
  {
   "cell_type": "code",
   "execution_count": 1,
   "metadata": {
    "collapsed": true
   },
   "outputs": [],
   "source": [
    "import numpy as np\n",
    "import pandas as pd\n",
    "import scipy.stats as stats\n",
    "import matplotlib.pyplot as plt\n",
    "import math\n",
    "import os"
   ]
  },
  {
   "cell_type": "code",
   "execution_count": 23,
   "metadata": {
    "scrolled": false
   },
   "outputs": [
    {
     "data": {
      "text/html": [
       "<div>\n",
       "<style>\n",
       "    .dataframe thead tr:only-child th {\n",
       "        text-align: right;\n",
       "    }\n",
       "\n",
       "    .dataframe thead th {\n",
       "        text-align: left;\n",
       "    }\n",
       "\n",
       "    .dataframe tbody tr th {\n",
       "        vertical-align: top;\n",
       "    }\n",
       "</style>\n",
       "<table border=\"1\" class=\"dataframe\">\n",
       "  <thead>\n",
       "    <tr style=\"text-align: right;\">\n",
       "      <th></th>\n",
       "      <th>Unnamed: 0</th>\n",
       "      <th>Date</th>\n",
       "      <th>compound</th>\n",
       "      <th>Adj Close</th>\n",
       "      <th>Company</th>\n",
       "      <th>compound_m_avg 2</th>\n",
       "      <th>stock_closing_m_avg 2</th>\n",
       "      <th>compound_m_avg 5</th>\n",
       "      <th>stock_closing_m_avg 5</th>\n",
       "    </tr>\n",
       "  </thead>\n",
       "  <tbody>\n",
       "    <tr>\n",
       "      <th>0</th>\n",
       "      <td>0</td>\n",
       "      <td>2017-11-01</td>\n",
       "      <td>0.042015</td>\n",
       "      <td>166.292206</td>\n",
       "      <td>@Apple</td>\n",
       "      <td>NaN</td>\n",
       "      <td>NaN</td>\n",
       "      <td>NaN</td>\n",
       "      <td>NaN</td>\n",
       "    </tr>\n",
       "    <tr>\n",
       "      <th>1</th>\n",
       "      <td>1</td>\n",
       "      <td>2017-11-02</td>\n",
       "      <td>-0.024569</td>\n",
       "      <td>167.507828</td>\n",
       "      <td>@Apple</td>\n",
       "      <td>0.008723</td>\n",
       "      <td>166.900017</td>\n",
       "      <td>NaN</td>\n",
       "      <td>NaN</td>\n",
       "    </tr>\n",
       "    <tr>\n",
       "      <th>2</th>\n",
       "      <td>2</td>\n",
       "      <td>2017-11-03</td>\n",
       "      <td>0.002326</td>\n",
       "      <td>171.882111</td>\n",
       "      <td>@Apple</td>\n",
       "      <td>-0.011122</td>\n",
       "      <td>169.694970</td>\n",
       "      <td>NaN</td>\n",
       "      <td>NaN</td>\n",
       "    </tr>\n",
       "    <tr>\n",
       "      <th>3</th>\n",
       "      <td>3</td>\n",
       "      <td>2017-11-06</td>\n",
       "      <td>-0.018984</td>\n",
       "      <td>173.625839</td>\n",
       "      <td>@Apple</td>\n",
       "      <td>-0.008329</td>\n",
       "      <td>172.753975</td>\n",
       "      <td>NaN</td>\n",
       "      <td>NaN</td>\n",
       "    </tr>\n",
       "    <tr>\n",
       "      <th>4</th>\n",
       "      <td>4</td>\n",
       "      <td>2017-11-07</td>\n",
       "      <td>-0.026920</td>\n",
       "      <td>174.183823</td>\n",
       "      <td>@Apple</td>\n",
       "      <td>-0.022952</td>\n",
       "      <td>173.904831</td>\n",
       "      <td>-0.005226</td>\n",
       "      <td>170.698361</td>\n",
       "    </tr>\n",
       "  </tbody>\n",
       "</table>\n",
       "</div>"
      ],
      "text/plain": [
       "   Unnamed: 0        Date  compound   Adj Close Company  compound_m_avg 2  \\\n",
       "0           0  2017-11-01  0.042015  166.292206  @Apple               NaN   \n",
       "1           1  2017-11-02 -0.024569  167.507828  @Apple          0.008723   \n",
       "2           2  2017-11-03  0.002326  171.882111  @Apple         -0.011122   \n",
       "3           3  2017-11-06 -0.018984  173.625839  @Apple         -0.008329   \n",
       "4           4  2017-11-07 -0.026920  174.183823  @Apple         -0.022952   \n",
       "\n",
       "   stock_closing_m_avg 2  compound_m_avg 5  stock_closing_m_avg 5  \n",
       "0                    NaN               NaN                    NaN  \n",
       "1             166.900017               NaN                    NaN  \n",
       "2             169.694970               NaN                    NaN  \n",
       "3             172.753975               NaN                    NaN  \n",
       "4             173.904831         -0.005226             170.698361  "
      ]
     },
     "execution_count": 23,
     "metadata": {},
     "output_type": "execute_result"
    }
   ],
   "source": [
    "summary_history_df = pd.read_csv(\"Summary_Historic_moving_Averages.csv\")\n",
    "summary_history_df.head()"
   ]
  },
  {
   "cell_type": "code",
   "execution_count": 17,
   "metadata": {},
   "outputs": [
    {
     "data": {
      "text/html": [
       "<div>\n",
       "<style>\n",
       "    .dataframe thead tr:only-child th {\n",
       "        text-align: right;\n",
       "    }\n",
       "\n",
       "    .dataframe thead th {\n",
       "        text-align: left;\n",
       "    }\n",
       "\n",
       "    .dataframe tbody tr th {\n",
       "        vertical-align: top;\n",
       "    }\n",
       "</style>\n",
       "<table border=\"1\" class=\"dataframe\">\n",
       "  <thead>\n",
       "    <tr style=\"text-align: right;\">\n",
       "      <th></th>\n",
       "      <th>Unnamed: 0</th>\n",
       "      <th>Date</th>\n",
       "      <th>compound</th>\n",
       "      <th>Adj Close</th>\n",
       "      <th>Company</th>\n",
       "      <th>compound_m_avg 2</th>\n",
       "      <th>stock_closing_m_avg 2</th>\n",
       "      <th>compound_m_avg 5</th>\n",
       "      <th>stock_closing_m_avg 5</th>\n",
       "    </tr>\n",
       "  </thead>\n",
       "  <tbody>\n",
       "    <tr>\n",
       "      <th>0</th>\n",
       "      <td>0</td>\n",
       "      <td>2017-11-01</td>\n",
       "      <td>0.042015</td>\n",
       "      <td>166.292206</td>\n",
       "      <td>@Apple</td>\n",
       "      <td>NaN</td>\n",
       "      <td>NaN</td>\n",
       "      <td>NaN</td>\n",
       "      <td>NaN</td>\n",
       "    </tr>\n",
       "    <tr>\n",
       "      <th>1</th>\n",
       "      <td>1</td>\n",
       "      <td>2017-11-02</td>\n",
       "      <td>-0.024569</td>\n",
       "      <td>167.507828</td>\n",
       "      <td>@Apple</td>\n",
       "      <td>0.008723</td>\n",
       "      <td>166.900017</td>\n",
       "      <td>NaN</td>\n",
       "      <td>NaN</td>\n",
       "    </tr>\n",
       "    <tr>\n",
       "      <th>2</th>\n",
       "      <td>2</td>\n",
       "      <td>2017-11-03</td>\n",
       "      <td>0.002326</td>\n",
       "      <td>171.882111</td>\n",
       "      <td>@Apple</td>\n",
       "      <td>-0.011122</td>\n",
       "      <td>169.694970</td>\n",
       "      <td>NaN</td>\n",
       "      <td>NaN</td>\n",
       "    </tr>\n",
       "    <tr>\n",
       "      <th>3</th>\n",
       "      <td>3</td>\n",
       "      <td>2017-11-06</td>\n",
       "      <td>-0.018984</td>\n",
       "      <td>173.625839</td>\n",
       "      <td>@Apple</td>\n",
       "      <td>-0.008329</td>\n",
       "      <td>172.753975</td>\n",
       "      <td>NaN</td>\n",
       "      <td>NaN</td>\n",
       "    </tr>\n",
       "    <tr>\n",
       "      <th>4</th>\n",
       "      <td>4</td>\n",
       "      <td>2017-11-07</td>\n",
       "      <td>-0.026920</td>\n",
       "      <td>174.183823</td>\n",
       "      <td>@Apple</td>\n",
       "      <td>-0.022952</td>\n",
       "      <td>173.904831</td>\n",
       "      <td>-0.005226</td>\n",
       "      <td>170.698361</td>\n",
       "    </tr>\n",
       "  </tbody>\n",
       "</table>\n",
       "</div>"
      ],
      "text/plain": [
       "   Unnamed: 0        Date  compound   Adj Close Company  compound_m_avg 2  \\\n",
       "0           0  2017-11-01  0.042015  166.292206  @Apple               NaN   \n",
       "1           1  2017-11-02 -0.024569  167.507828  @Apple          0.008723   \n",
       "2           2  2017-11-03  0.002326  171.882111  @Apple         -0.011122   \n",
       "3           3  2017-11-06 -0.018984  173.625839  @Apple         -0.008329   \n",
       "4           4  2017-11-07 -0.026920  174.183823  @Apple         -0.022952   \n",
       "\n",
       "   stock_closing_m_avg 2  compound_m_avg 5  stock_closing_m_avg 5  \n",
       "0                    NaN               NaN                    NaN  \n",
       "1             166.900017               NaN                    NaN  \n",
       "2             169.694970               NaN                    NaN  \n",
       "3             172.753975               NaN                    NaN  \n",
       "4             173.904831         -0.005226             170.698361  "
      ]
     },
     "execution_count": 17,
     "metadata": {},
     "output_type": "execute_result"
    }
   ],
   "source": [
    "apple = summary_history_df.loc[summary_history_df[\"Company\"] == \"@Apple\", :]\n",
    "apple.head()"
   ]
  },
  {
   "cell_type": "code",
   "execution_count": 16,
   "metadata": {},
   "outputs": [
    {
     "data": {
      "text/plain": [
       "0.042014999999999803"
      ]
     },
     "execution_count": 16,
     "metadata": {},
     "output_type": "execute_result"
    }
   ],
   "source": [
    "apple.iloc[0, 2]"
   ]
  },
  {
   "cell_type": "code",
   "execution_count": 20,
   "metadata": {
    "scrolled": true
   },
   "outputs": [
    {
     "data": {
      "text/html": [
       "<div>\n",
       "<style>\n",
       "    .dataframe thead tr:only-child th {\n",
       "        text-align: right;\n",
       "    }\n",
       "\n",
       "    .dataframe thead th {\n",
       "        text-align: left;\n",
       "    }\n",
       "\n",
       "    .dataframe tbody tr th {\n",
       "        vertical-align: top;\n",
       "    }\n",
       "</style>\n",
       "<table border=\"1\" class=\"dataframe\">\n",
       "  <thead>\n",
       "    <tr style=\"text-align: right;\">\n",
       "      <th></th>\n",
       "      <th>Unnamed: 0</th>\n",
       "      <th>compound</th>\n",
       "      <th>Adj Close</th>\n",
       "      <th>compound_m_avg 2</th>\n",
       "      <th>stock_closing_m_avg 2</th>\n",
       "      <th>compound_m_avg 5</th>\n",
       "      <th>stock_closing_m_avg 5</th>\n",
       "    </tr>\n",
       "    <tr>\n",
       "      <th>Company</th>\n",
       "      <th></th>\n",
       "      <th></th>\n",
       "      <th></th>\n",
       "      <th></th>\n",
       "      <th></th>\n",
       "      <th></th>\n",
       "      <th></th>\n",
       "    </tr>\n",
       "  </thead>\n",
       "  <tbody>\n",
       "    <tr>\n",
       "      <th>@Apple</th>\n",
       "      <td>9.5</td>\n",
       "      <td>0.007755</td>\n",
       "      <td>172.217526</td>\n",
       "      <td>0.007749</td>\n",
       "      <td>172.445496</td>\n",
       "      <td>0.005501</td>\n",
       "      <td>172.704878</td>\n",
       "    </tr>\n",
       "    <tr>\n",
       "      <th>@Macys</th>\n",
       "      <td>9.5</td>\n",
       "      <td>0.391670</td>\n",
       "      <td>19.936000</td>\n",
       "      <td>0.399854</td>\n",
       "      <td>19.855526</td>\n",
       "      <td>0.437829</td>\n",
       "      <td>19.758250</td>\n",
       "    </tr>\n",
       "    <tr>\n",
       "      <th>@Nike</th>\n",
       "      <td>9.5</td>\n",
       "      <td>0.091222</td>\n",
       "      <td>57.140728</td>\n",
       "      <td>0.092249</td>\n",
       "      <td>57.120558</td>\n",
       "      <td>0.090992</td>\n",
       "      <td>57.075320</td>\n",
       "    </tr>\n",
       "    <tr>\n",
       "      <th>@Visa</th>\n",
       "      <td>9.5</td>\n",
       "      <td>0.063364</td>\n",
       "      <td>111.299942</td>\n",
       "      <td>0.065274</td>\n",
       "      <td>111.349056</td>\n",
       "      <td>0.062551</td>\n",
       "      <td>111.298134</td>\n",
       "    </tr>\n",
       "    <tr>\n",
       "      <th>@Walmart</th>\n",
       "      <td>9.0</td>\n",
       "      <td>0.149182</td>\n",
       "      <td>92.934737</td>\n",
       "      <td>0.143954</td>\n",
       "      <td>92.945001</td>\n",
       "      <td>0.148524</td>\n",
       "      <td>92.971067</td>\n",
       "    </tr>\n",
       "    <tr>\n",
       "      <th>@amazon</th>\n",
       "      <td>9.0</td>\n",
       "      <td>0.168841</td>\n",
       "      <td>1135.032638</td>\n",
       "      <td>0.167100</td>\n",
       "      <td>1135.174727</td>\n",
       "      <td>0.166211</td>\n",
       "      <td>1133.681740</td>\n",
       "    </tr>\n",
       "    <tr>\n",
       "      <th>@netflix</th>\n",
       "      <td>9.5</td>\n",
       "      <td>0.116251</td>\n",
       "      <td>195.605500</td>\n",
       "      <td>0.114388</td>\n",
       "      <td>195.738684</td>\n",
       "      <td>0.112180</td>\n",
       "      <td>195.430625</td>\n",
       "    </tr>\n",
       "  </tbody>\n",
       "</table>\n",
       "</div>"
      ],
      "text/plain": [
       "          Unnamed: 0  compound    Adj Close  compound_m_avg 2  \\\n",
       "Company                                                         \n",
       "@Apple           9.5  0.007755   172.217526          0.007749   \n",
       "@Macys           9.5  0.391670    19.936000          0.399854   \n",
       "@Nike            9.5  0.091222    57.140728          0.092249   \n",
       "@Visa            9.5  0.063364   111.299942          0.065274   \n",
       "@Walmart         9.0  0.149182    92.934737          0.143954   \n",
       "@amazon          9.0  0.168841  1135.032638          0.167100   \n",
       "@netflix         9.5  0.116251   195.605500          0.114388   \n",
       "\n",
       "          stock_closing_m_avg 2  compound_m_avg 5  stock_closing_m_avg 5  \n",
       "Company                                                                   \n",
       "@Apple               172.445496          0.005501             172.704878  \n",
       "@Macys                19.855526          0.437829              19.758250  \n",
       "@Nike                 57.120558          0.090992              57.075320  \n",
       "@Visa                111.349056          0.062551             111.298134  \n",
       "@Walmart              92.945001          0.148524              92.971067  \n",
       "@amazon             1135.174727          0.166211            1133.681740  \n",
       "@netflix             195.738684          0.112180             195.430625  "
      ]
     },
     "execution_count": 20,
     "metadata": {},
     "output_type": "execute_result"
    }
   ],
   "source": [
    "# Groupby\n",
    "groupby_company = summary_history_df.groupby([\"Company\"])\n",
    "company_avg = groupby_company.mean()\n",
    "company_avg"
   ]
  },
  {
   "cell_type": "code",
   "execution_count": 22,
   "metadata": {},
   "outputs": [
    {
     "data": {
      "text/plain": [
       "[array(['@Apple', '@Macys', '@Nike', '@Visa', '@Walmart', '@amazon',\n",
       "        '@netflix'], dtype=object)]"
      ]
     },
     "execution_count": 22,
     "metadata": {},
     "output_type": "execute_result"
    }
   ],
   "source": [
    "companies = [company_avg.index.values]\n",
    "companies"
   ]
  },
  {
   "cell_type": "code",
   "execution_count": 28,
   "metadata": {},
   "outputs": [
    {
     "data": {
      "text/plain": [
       "(0.0077546999999999807, 172.21752624999999)"
      ]
     },
     "execution_count": 28,
     "metadata": {},
     "output_type": "execute_result"
    }
   ],
   "source": [
    "company_avg.iloc[0, 1], company_avg.iloc[0, 2]"
   ]
  },
  {
   "cell_type": "code",
   "execution_count": 43,
   "metadata": {},
   "outputs": [
    {
     "data": {
      "text/plain": [
       "172.21752624999999"
      ]
     },
     "execution_count": 43,
     "metadata": {},
     "output_type": "execute_result"
    }
   ],
   "source": [
    "apple_compound = company_avg.get_value(\"@Apple\", \"compound\", takeable=False)\n",
    "apple_compound\n",
    "\n",
    "apple_close = company_avg.get_value(\"@Apple\", \"Adj Close\", takeable=False)\n",
    "apple_close"
   ]
  },
  {
   "cell_type": "code",
   "execution_count": 44,
   "metadata": {},
   "outputs": [
    {
     "name": "stderr",
     "output_type": "stream",
     "text": [
      "/Users/Ashley/anaconda3/envs/py36/lib/python3.6/site-packages/numpy/core/fromnumeric.py:3146: RuntimeWarning: Degrees of freedom <= 0 for slice\n",
      "  **kwargs)\n",
      "/Users/Ashley/anaconda3/envs/py36/lib/python3.6/site-packages/numpy/core/_methods.py:127: RuntimeWarning: invalid value encountered in double_scalars\n",
      "  ret = ret.dtype.type(ret / rcount)\n"
     ]
    },
    {
     "data": {
      "text/plain": [
       "Ttest_indResult(statistic=nan, pvalue=nan)"
      ]
     },
     "execution_count": 44,
     "metadata": {},
     "output_type": "execute_result"
    }
   ],
   "source": [
    "ttest = stats.ttest_ind(apple_compound, apple_close, equal_var=False)\n",
    "ttest"
   ]
  },
  {
   "cell_type": "code",
   "execution_count": 33,
   "metadata": {},
   "outputs": [
    {
     "name": "stdout",
     "output_type": "stream",
     "text": [
      "Ttest_indResult(statistic=-1.7154550728873088, pvalue=0.13708244533648806)\n",
      "Ttest_indResult(statistic=-1.7154550728873088, pvalue=0.13708244533648806)\n",
      "Ttest_indResult(statistic=-1.715455072887309, pvalue=0.13708244533648806)\n",
      "Ttest_indResult(statistic=-1.715455072887309, pvalue=0.13708244533648806)\n",
      "Ttest_indResult(statistic=-1.7154550728873088, pvalue=0.13708244533648806)\n",
      "Ttest_indResult(statistic=-1.715455072887309, pvalue=0.13708244533648806)\n",
      "Ttest_indResult(statistic=-1.7154550728873088, pvalue=0.13708244533648806)\n",
      "Ttest_indResult(statistic=-1.7154550728873088, pvalue=0.13708244533648806)\n"
     ]
    }
   ],
   "source": [
    "counter = 0\n",
    "for i in range(0, 8):  \n",
    "    counter = counter+1\n",
    "    ttest = stats.ttest_ind(company_avg[\"compound\"]+i, company_avg[\"Adj Close\"]+i, equal_var=False)\n",
    "    print(ttest)"
   ]
  },
  {
   "cell_type": "code",
   "execution_count": 31,
   "metadata": {},
   "outputs": [
    {
     "data": {
      "text/plain": [
       "Ttest_indResult(statistic=-1.7154550728873088, pvalue=0.13708244533648806)"
      ]
     },
     "execution_count": 31,
     "metadata": {},
     "output_type": "execute_result"
    }
   ],
   "source": [
    "ttest_all = stats.ttest_ind(company_avg[\"compound\"], company_avg[\"Adj Close\"], equal_var=False)\n",
    "ttest_all"
   ]
  }
 ],
 "metadata": {
  "kernelspec": {
   "display_name": "Python 3",
   "language": "python",
   "name": "python3"
  },
  "language_info": {
   "codemirror_mode": {
    "name": "ipython",
    "version": 3
   },
   "file_extension": ".py",
   "mimetype": "text/x-python",
   "name": "python",
   "nbconvert_exporter": "python",
   "pygments_lexer": "ipython3",
   "version": "3.6.2"
  }
 },
 "nbformat": 4,
 "nbformat_minor": 2
}
