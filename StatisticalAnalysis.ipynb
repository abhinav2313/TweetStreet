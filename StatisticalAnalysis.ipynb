{
 "cells": [
  {
   "cell_type": "code",
   "execution_count": 1,
   "metadata": {},
   "outputs": [],
   "source": [
    "import numpy as np\n",
    "import pandas as pd\n",
    "import scipy.stats as stats\n",
    "import matplotlib.pyplot as plt\n",
    "import math\n",
    "import statsmodels.formula.api as smf\n",
    "from sklearn.linear_model import LinearRegression"
   ]
  },
  {
   "cell_type": "code",
   "execution_count": 2,
   "metadata": {
    "scrolled": true
   },
   "outputs": [
    {
     "data": {
      "text/html": [
       "<div>\n",
       "<style>\n",
       "    .dataframe thead tr:only-child th {\n",
       "        text-align: right;\n",
       "    }\n",
       "\n",
       "    .dataframe thead th {\n",
       "        text-align: left;\n",
       "    }\n",
       "\n",
       "    .dataframe tbody tr th {\n",
       "        vertical-align: top;\n",
       "    }\n",
       "</style>\n",
       "<table border=\"1\" class=\"dataframe\">\n",
       "  <thead>\n",
       "    <tr style=\"text-align: right;\">\n",
       "      <th></th>\n",
       "      <th>Unnamed: 0</th>\n",
       "      <th>Date</th>\n",
       "      <th>compound</th>\n",
       "      <th>Adj Close</th>\n",
       "      <th>Company</th>\n",
       "      <th>compound_m_avg 2</th>\n",
       "      <th>stock_closing_m_avg 2</th>\n",
       "      <th>compound_m_avg 5</th>\n",
       "      <th>stock_closing_m_avg 5</th>\n",
       "    </tr>\n",
       "  </thead>\n",
       "  <tbody>\n",
       "    <tr>\n",
       "      <th>0</th>\n",
       "      <td>0</td>\n",
       "      <td>11/1/17</td>\n",
       "      <td>0.042015</td>\n",
       "      <td>166.292206</td>\n",
       "      <td>@Apple</td>\n",
       "      <td>NaN</td>\n",
       "      <td>NaN</td>\n",
       "      <td>NaN</td>\n",
       "      <td>NaN</td>\n",
       "    </tr>\n",
       "    <tr>\n",
       "      <th>1</th>\n",
       "      <td>1</td>\n",
       "      <td>11/2/17</td>\n",
       "      <td>-0.024569</td>\n",
       "      <td>167.507828</td>\n",
       "      <td>@Apple</td>\n",
       "      <td>0.008723</td>\n",
       "      <td>166.900017</td>\n",
       "      <td>NaN</td>\n",
       "      <td>NaN</td>\n",
       "    </tr>\n",
       "    <tr>\n",
       "      <th>2</th>\n",
       "      <td>2</td>\n",
       "      <td>11/3/17</td>\n",
       "      <td>0.002326</td>\n",
       "      <td>171.882111</td>\n",
       "      <td>@Apple</td>\n",
       "      <td>-0.011122</td>\n",
       "      <td>169.694970</td>\n",
       "      <td>NaN</td>\n",
       "      <td>NaN</td>\n",
       "    </tr>\n",
       "    <tr>\n",
       "      <th>3</th>\n",
       "      <td>3</td>\n",
       "      <td>11/6/17</td>\n",
       "      <td>-0.018984</td>\n",
       "      <td>173.625839</td>\n",
       "      <td>@Apple</td>\n",
       "      <td>-0.008329</td>\n",
       "      <td>172.753975</td>\n",
       "      <td>NaN</td>\n",
       "      <td>NaN</td>\n",
       "    </tr>\n",
       "    <tr>\n",
       "      <th>4</th>\n",
       "      <td>4</td>\n",
       "      <td>11/7/17</td>\n",
       "      <td>-0.026920</td>\n",
       "      <td>174.183823</td>\n",
       "      <td>@Apple</td>\n",
       "      <td>-0.022952</td>\n",
       "      <td>173.904831</td>\n",
       "      <td>-0.005226</td>\n",
       "      <td>170.698361</td>\n",
       "    </tr>\n",
       "  </tbody>\n",
       "</table>\n",
       "</div>"
      ],
      "text/plain": [
       "   Unnamed: 0     Date  compound   Adj Close Company  compound_m_avg 2  \\\n",
       "0           0  11/1/17  0.042015  166.292206  @Apple               NaN   \n",
       "1           1  11/2/17 -0.024569  167.507828  @Apple          0.008723   \n",
       "2           2  11/3/17  0.002326  171.882111  @Apple         -0.011122   \n",
       "3           3  11/6/17 -0.018984  173.625839  @Apple         -0.008329   \n",
       "4           4  11/7/17 -0.026920  174.183823  @Apple         -0.022952   \n",
       "\n",
       "   stock_closing_m_avg 2  compound_m_avg 5  stock_closing_m_avg 5  \n",
       "0                    NaN               NaN                    NaN  \n",
       "1             166.900017               NaN                    NaN  \n",
       "2             169.694970               NaN                    NaN  \n",
       "3             172.753975               NaN                    NaN  \n",
       "4             173.904831         -0.005226             170.698361  "
      ]
     },
     "execution_count": 2,
     "metadata": {},
     "output_type": "execute_result"
    }
   ],
   "source": [
    "summary_history_df = pd.read_csv(\"Summary_Historic_moving_Averages_copy.csv\")\n",
    "summary_history_df.head()"
   ]
  },
  {
   "cell_type": "code",
   "execution_count": 3,
   "metadata": {
    "collapsed": true
   },
   "outputs": [],
   "source": [
    "handles = [\"@Apple\", \"@Visa\", \"@amazon\", \"@Walmart\",'@netflix','@Nike','@Macys']\n",
    "rsquared_list = []"
   ]
  },
  {
   "cell_type": "code",
   "execution_count": 4,
   "metadata": {},
   "outputs": [
    {
     "name": "stdout",
     "output_type": "stream",
     "text": [
      "0.0160542639865\n",
      "0.0308919809855\n",
      "0.0482324846858\n",
      "0.00505736609934\n",
      "0.000824809467815\n",
      "0.00681331107934\n",
      "0.140708925626\n"
     ]
    }
   ],
   "source": [
    "for handle in handles:\n",
    "    handle = summary_history_df.loc[summary_history_df[\"Company\"] == handle, :]\n",
    "\n",
    "    x_value_handle = handle[\"Adj Close\"]\n",
    "    y_value_handle = handle[\"compound\"]\n",
    "\n",
    "    lm_handle = smf.ols(formula=\"x_value_handle ~ y_value_handle\", data=handle).fit()\n",
    "    \n",
    "    print(lm_handle.rsquared)\n",
    "    rsquared_list.append(lm_handle.rsquared)\n",
    "    #print(lm_handle.summary())"
   ]
  },
  {
   "cell_type": "code",
   "execution_count": 5,
   "metadata": {
    "scrolled": true
   },
   "outputs": [
    {
     "data": {
      "text/html": [
       "<div>\n",
       "<style>\n",
       "    .dataframe thead tr:only-child th {\n",
       "        text-align: right;\n",
       "    }\n",
       "\n",
       "    .dataframe thead th {\n",
       "        text-align: left;\n",
       "    }\n",
       "\n",
       "    .dataframe tbody tr th {\n",
       "        vertical-align: top;\n",
       "    }\n",
       "</style>\n",
       "<table border=\"1\" class=\"dataframe\">\n",
       "  <thead>\n",
       "    <tr style=\"text-align: right;\">\n",
       "      <th></th>\n",
       "      <th>Companies</th>\n",
       "      <th>R-Squared Value</th>\n",
       "    </tr>\n",
       "  </thead>\n",
       "  <tbody>\n",
       "    <tr>\n",
       "      <th>0</th>\n",
       "      <td>@Apple</td>\n",
       "      <td>0.016054</td>\n",
       "    </tr>\n",
       "    <tr>\n",
       "      <th>1</th>\n",
       "      <td>@Visa</td>\n",
       "      <td>0.030892</td>\n",
       "    </tr>\n",
       "    <tr>\n",
       "      <th>2</th>\n",
       "      <td>@amazon</td>\n",
       "      <td>0.048232</td>\n",
       "    </tr>\n",
       "    <tr>\n",
       "      <th>3</th>\n",
       "      <td>@Walmart</td>\n",
       "      <td>0.005057</td>\n",
       "    </tr>\n",
       "    <tr>\n",
       "      <th>4</th>\n",
       "      <td>@netflix</td>\n",
       "      <td>0.000825</td>\n",
       "    </tr>\n",
       "    <tr>\n",
       "      <th>5</th>\n",
       "      <td>@Nike</td>\n",
       "      <td>0.006813</td>\n",
       "    </tr>\n",
       "    <tr>\n",
       "      <th>6</th>\n",
       "      <td>@Macys</td>\n",
       "      <td>0.140709</td>\n",
       "    </tr>\n",
       "  </tbody>\n",
       "</table>\n",
       "</div>"
      ],
      "text/plain": [
       "  Companies  R-Squared Value\n",
       "0    @Apple         0.016054\n",
       "1     @Visa         0.030892\n",
       "2   @amazon         0.048232\n",
       "3  @Walmart         0.005057\n",
       "4  @netflix         0.000825\n",
       "5     @Nike         0.006813\n",
       "6    @Macys         0.140709"
      ]
     },
     "execution_count": 5,
     "metadata": {},
     "output_type": "execute_result"
    }
   ],
   "source": [
    "regression_analysis = pd.DataFrame({\n",
    "    \"Companies\": handles, \n",
    "    \"R-Squared Value\": rsquared_list\n",
    "})\n",
    "regression_analysis"
   ]
  },
  {
   "cell_type": "code",
   "execution_count": 6,
   "metadata": {},
   "outputs": [],
   "source": [
    "# print(lm.params)\n",
    "# print()\n",
    "# print(lm.pvalues)\n",
    "# print()\n",
    "# print(lm.rsquared)\n",
    "# print()"
   ]
  },
  {
   "cell_type": "code",
   "execution_count": null,
   "metadata": {
    "collapsed": true
   },
   "outputs": [],
   "source": []
  }
 ],
 "metadata": {
  "kernelspec": {
   "display_name": "Python 3",
   "language": "python",
   "name": "python3"
  },
  "language_info": {
   "codemirror_mode": {
    "name": "ipython",
    "version": 3
   },
   "file_extension": ".py",
   "mimetype": "text/x-python",
   "name": "python",
   "nbconvert_exporter": "python",
   "pygments_lexer": "ipython3",
   "version": "3.6.2"
  }
 },
 "nbformat": 4,
 "nbformat_minor": 2
}
